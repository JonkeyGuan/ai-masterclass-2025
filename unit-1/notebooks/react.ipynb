{
 "cells": [
  {
   "cell_type": "markdown",
   "metadata": {},
   "source": [
    "# ReAct Agent"
   ]
  },
  {
   "cell_type": "markdown",
   "metadata": {},
   "source": [
    "Adapted from https://github.com/opendatahub-io/llama-stack-demos/blob/main/demos/rag_agentic/notebooks/Level3_advance_agentic_with_Prompt_Chaining_ReAct.ipynb"
   ]
  },
  {
   "cell_type": "code",
   "execution_count": 1,
   "metadata": {},
   "outputs": [],
   "source": [
    "import rich\n",
    "import uuid\n",
    "from llama_stack_client import Agent, LlamaStackClient, AgentEventLogger\n",
    "from llama_stack_client.lib.agents.client_tool import client_tool\n",
    "from llama_stack_client.lib.agents.event_logger import EventLogger\n",
    "from llama_stack_client.lib.agents.react.agent import ReActAgent\n",
    "from llama_stack_client.lib.agents.react.tool_parser import ReActOutput"
   ]
  },
  {
   "cell_type": "code",
   "execution_count": 2,
   "metadata": {},
   "outputs": [],
   "source": [
    "# this may be missing from pyproject.toml, add it if you need it\n",
    "#!uv pip install geocoder"
   ]
  },
  {
   "cell_type": "code",
   "execution_count": 3,
   "metadata": {},
   "outputs": [],
   "source": [
    "@client_tool\n",
    "def get_location(query: str = \"location\"):\n",
    "    \"\"\"\n",
    "    Provide the location upon request.\n",
    "\n",
    "    :param query: The query from user\n",
    "    :returns: Information about user location\n",
    "    \"\"\"\n",
    "    import geocoder\n",
    "    \n",
    "    try:\n",
    "        g = geocoder.ip('me')\n",
    "        if g.ok:\n",
    "            return f\"Your current location is: {g.city}, {g.state}, {g.country}\" # can be modified to return latitude and longitude if needed\n",
    "        else:\n",
    "            return \"Unable to determine your location\"\n",
    "    except Exception as e:\n",
    "        return f\"Error getting location: {str(e)}\""
   ]
  },
  {
   "cell_type": "code",
   "execution_count": 4,
   "metadata": {},
   "outputs": [],
   "source": [
    "client = LlamaStackClient(\n",
    "    base_url=\"http://localhost:8321\",\n",
    ")"
   ]
  },
  {
   "cell_type": "code",
   "execution_count": 5,
   "metadata": {},
   "outputs": [
    {
     "data": {
      "text/html": [
       "<pre style=\"white-space:pre;overflow-x:auto;line-height:normal;font-family:Menlo,'DejaVu Sans Mono',consolas,'Courier New',monospace\"><span style=\"font-weight: bold\">[</span>\n",
       "    <span style=\"color: #800080; text-decoration-color: #800080; font-weight: bold\">Model</span><span style=\"font-weight: bold\">(</span>\n",
       "        <span style=\"color: #808000; text-decoration-color: #808000\">identifier</span>=<span style=\"color: #008000; text-decoration-color: #008000\">'all-MiniLM-L6-v2'</span>,\n",
       "        <span style=\"color: #808000; text-decoration-color: #808000\">metadata</span>=<span style=\"font-weight: bold\">{</span><span style=\"color: #008000; text-decoration-color: #008000\">'embedding_dimension'</span>: <span style=\"color: #008080; text-decoration-color: #008080; font-weight: bold\">384.0</span><span style=\"font-weight: bold\">}</span>,\n",
       "        <span style=\"color: #808000; text-decoration-color: #808000\">api_model_type</span>=<span style=\"color: #008000; text-decoration-color: #008000\">'embedding'</span>,\n",
       "        <span style=\"color: #808000; text-decoration-color: #808000\">provider_id</span>=<span style=\"color: #008000; text-decoration-color: #008000\">'ollama'</span>,\n",
       "        <span style=\"color: #808000; text-decoration-color: #808000\">provider_resource_id</span>=<span style=\"color: #008000; text-decoration-color: #008000\">'all-minilm:latest'</span>,\n",
       "        <span style=\"color: #808000; text-decoration-color: #808000\">type</span>=<span style=\"color: #008000; text-decoration-color: #008000\">'model'</span>,\n",
       "        <span style=\"color: #808000; text-decoration-color: #808000\">model_type</span>=<span style=\"color: #008000; text-decoration-color: #008000\">'embedding'</span>\n",
       "    <span style=\"font-weight: bold\">)</span>,\n",
       "    <span style=\"color: #800080; text-decoration-color: #800080; font-weight: bold\">Model</span><span style=\"font-weight: bold\">(</span>\n",
       "        <span style=\"color: #808000; text-decoration-color: #808000\">identifier</span>=<span style=\"color: #008000; text-decoration-color: #008000\">'meta-llama/Llama-3.2-3B-Instruct'</span>,\n",
       "        <span style=\"color: #808000; text-decoration-color: #808000\">metadata</span>=<span style=\"font-weight: bold\">{}</span>,\n",
       "        <span style=\"color: #808000; text-decoration-color: #808000\">api_model_type</span>=<span style=\"color: #008000; text-decoration-color: #008000\">'llm'</span>,\n",
       "        <span style=\"color: #808000; text-decoration-color: #808000\">provider_id</span>=<span style=\"color: #008000; text-decoration-color: #008000\">'ollama'</span>,\n",
       "        <span style=\"color: #808000; text-decoration-color: #808000\">provider_resource_id</span>=<span style=\"color: #008000; text-decoration-color: #008000\">'llama3.2:3b-instruct-fp16'</span>,\n",
       "        <span style=\"color: #808000; text-decoration-color: #808000\">type</span>=<span style=\"color: #008000; text-decoration-color: #008000\">'model'</span>,\n",
       "        <span style=\"color: #808000; text-decoration-color: #808000\">model_type</span>=<span style=\"color: #008000; text-decoration-color: #008000\">'llm'</span>\n",
       "    <span style=\"font-weight: bold\">)</span>\n",
       "<span style=\"font-weight: bold\">]</span>\n",
       "</pre>\n"
      ],
      "text/plain": [
       "\u001b[1m[\u001b[0m\n",
       "    \u001b[1;35mModel\u001b[0m\u001b[1m(\u001b[0m\n",
       "        \u001b[33midentifier\u001b[0m=\u001b[32m'all-MiniLM-L6-v2'\u001b[0m,\n",
       "        \u001b[33mmetadata\u001b[0m=\u001b[1m{\u001b[0m\u001b[32m'embedding_dimension'\u001b[0m: \u001b[1;36m384.0\u001b[0m\u001b[1m}\u001b[0m,\n",
       "        \u001b[33mapi_model_type\u001b[0m=\u001b[32m'embedding'\u001b[0m,\n",
       "        \u001b[33mprovider_id\u001b[0m=\u001b[32m'ollama'\u001b[0m,\n",
       "        \u001b[33mprovider_resource_id\u001b[0m=\u001b[32m'all-minilm:latest'\u001b[0m,\n",
       "        \u001b[33mtype\u001b[0m=\u001b[32m'model'\u001b[0m,\n",
       "        \u001b[33mmodel_type\u001b[0m=\u001b[32m'embedding'\u001b[0m\n",
       "    \u001b[1m)\u001b[0m,\n",
       "    \u001b[1;35mModel\u001b[0m\u001b[1m(\u001b[0m\n",
       "        \u001b[33midentifier\u001b[0m=\u001b[32m'meta-llama/Llama-3.2-3B-Instruct'\u001b[0m,\n",
       "        \u001b[33mmetadata\u001b[0m=\u001b[1m{\u001b[0m\u001b[1m}\u001b[0m,\n",
       "        \u001b[33mapi_model_type\u001b[0m=\u001b[32m'llm'\u001b[0m,\n",
       "        \u001b[33mprovider_id\u001b[0m=\u001b[32m'ollama'\u001b[0m,\n",
       "        \u001b[33mprovider_resource_id\u001b[0m=\u001b[32m'llama3.2:3b-instruct-fp16'\u001b[0m,\n",
       "        \u001b[33mtype\u001b[0m=\u001b[32m'model'\u001b[0m,\n",
       "        \u001b[33mmodel_type\u001b[0m=\u001b[32m'llm'\u001b[0m\n",
       "    \u001b[1m)\u001b[0m\n",
       "\u001b[1m]\u001b[0m\n"
      ]
     },
     "metadata": {},
     "output_type": "display_data"
    }
   ],
   "source": [
    "models = client.models.list()\n",
    "rich.print(models)"
   ]
  },
  {
   "cell_type": "code",
   "execution_count": 6,
   "metadata": {},
   "outputs": [
    {
     "data": {
      "text/html": [
       "<pre style=\"white-space:pre;overflow-x:auto;line-height:normal;font-family:Menlo,'DejaVu Sans Mono',consolas,'Courier New',monospace\"><span style=\"font-weight: bold\">[</span>\n",
       "    <span style=\"color: #800080; text-decoration-color: #800080; font-weight: bold\">ToolGroup</span><span style=\"font-weight: bold\">(</span>\n",
       "        <span style=\"color: #808000; text-decoration-color: #808000\">identifier</span>=<span style=\"color: #008000; text-decoration-color: #008000\">'builtin::rag'</span>,\n",
       "        <span style=\"color: #808000; text-decoration-color: #808000\">provider_id</span>=<span style=\"color: #008000; text-decoration-color: #008000\">'rag-runtime'</span>,\n",
       "        <span style=\"color: #808000; text-decoration-color: #808000\">provider_resource_id</span>=<span style=\"color: #008000; text-decoration-color: #008000\">'builtin::rag'</span>,\n",
       "        <span style=\"color: #808000; text-decoration-color: #808000\">type</span>=<span style=\"color: #008000; text-decoration-color: #008000\">'tool_group'</span>,\n",
       "        <span style=\"color: #808000; text-decoration-color: #808000\">args</span>=<span style=\"color: #800080; text-decoration-color: #800080; font-style: italic\">None</span>,\n",
       "        <span style=\"color: #808000; text-decoration-color: #808000\">mcp_endpoint</span>=<span style=\"color: #800080; text-decoration-color: #800080; font-style: italic\">None</span>\n",
       "    <span style=\"font-weight: bold\">)</span>,\n",
       "    <span style=\"color: #800080; text-decoration-color: #800080; font-weight: bold\">ToolGroup</span><span style=\"font-weight: bold\">(</span>\n",
       "        <span style=\"color: #808000; text-decoration-color: #808000\">identifier</span>=<span style=\"color: #008000; text-decoration-color: #008000\">'builtin::websearch'</span>,\n",
       "        <span style=\"color: #808000; text-decoration-color: #808000\">provider_id</span>=<span style=\"color: #008000; text-decoration-color: #008000\">'tavily-search'</span>,\n",
       "        <span style=\"color: #808000; text-decoration-color: #808000\">provider_resource_id</span>=<span style=\"color: #008000; text-decoration-color: #008000\">'builtin::websearch'</span>,\n",
       "        <span style=\"color: #808000; text-decoration-color: #808000\">type</span>=<span style=\"color: #008000; text-decoration-color: #008000\">'tool_group'</span>,\n",
       "        <span style=\"color: #808000; text-decoration-color: #808000\">args</span>=<span style=\"color: #800080; text-decoration-color: #800080; font-style: italic\">None</span>,\n",
       "        <span style=\"color: #808000; text-decoration-color: #808000\">mcp_endpoint</span>=<span style=\"color: #800080; text-decoration-color: #800080; font-style: italic\">None</span>\n",
       "    <span style=\"font-weight: bold\">)</span>\n",
       "<span style=\"font-weight: bold\">]</span>\n",
       "</pre>\n"
      ],
      "text/plain": [
       "\u001b[1m[\u001b[0m\n",
       "    \u001b[1;35mToolGroup\u001b[0m\u001b[1m(\u001b[0m\n",
       "        \u001b[33midentifier\u001b[0m=\u001b[32m'builtin::rag'\u001b[0m,\n",
       "        \u001b[33mprovider_id\u001b[0m=\u001b[32m'rag-runtime'\u001b[0m,\n",
       "        \u001b[33mprovider_resource_id\u001b[0m=\u001b[32m'builtin::rag'\u001b[0m,\n",
       "        \u001b[33mtype\u001b[0m=\u001b[32m'tool_group'\u001b[0m,\n",
       "        \u001b[33margs\u001b[0m=\u001b[3;35mNone\u001b[0m,\n",
       "        \u001b[33mmcp_endpoint\u001b[0m=\u001b[3;35mNone\u001b[0m\n",
       "    \u001b[1m)\u001b[0m,\n",
       "    \u001b[1;35mToolGroup\u001b[0m\u001b[1m(\u001b[0m\n",
       "        \u001b[33midentifier\u001b[0m=\u001b[32m'builtin::websearch'\u001b[0m,\n",
       "        \u001b[33mprovider_id\u001b[0m=\u001b[32m'tavily-search'\u001b[0m,\n",
       "        \u001b[33mprovider_resource_id\u001b[0m=\u001b[32m'builtin::websearch'\u001b[0m,\n",
       "        \u001b[33mtype\u001b[0m=\u001b[32m'tool_group'\u001b[0m,\n",
       "        \u001b[33margs\u001b[0m=\u001b[3;35mNone\u001b[0m,\n",
       "        \u001b[33mmcp_endpoint\u001b[0m=\u001b[3;35mNone\u001b[0m\n",
       "    \u001b[1m)\u001b[0m\n",
       "\u001b[1m]\u001b[0m\n"
      ]
     },
     "metadata": {},
     "output_type": "display_data"
    }
   ],
   "source": [
    "toolgroups = client.toolgroups.list()\n",
    "rich.print(toolgroups)"
   ]
  },
  {
   "cell_type": "code",
   "execution_count": 7,
   "metadata": {},
   "outputs": [
    {
     "data": {
      "text/html": [
       "<pre style=\"white-space:pre;overflow-x:auto;line-height:normal;font-family:Menlo,'DejaVu Sans Mono',consolas,'Courier New',monospace\"><span style=\"font-weight: bold\">[</span>\n",
       "    <span style=\"color: #800080; text-decoration-color: #800080; font-weight: bold\">Tool</span><span style=\"font-weight: bold\">(</span>\n",
       "        <span style=\"color: #808000; text-decoration-color: #808000\">description</span>=<span style=\"color: #008000; text-decoration-color: #008000\">'Insert documents into memory'</span>,\n",
       "        <span style=\"color: #808000; text-decoration-color: #808000\">identifier</span>=<span style=\"color: #008000; text-decoration-color: #008000\">'insert_into_memory'</span>,\n",
       "        <span style=\"color: #808000; text-decoration-color: #808000\">parameters</span>=<span style=\"font-weight: bold\">[]</span>,\n",
       "        <span style=\"color: #808000; text-decoration-color: #808000\">provider_id</span>=<span style=\"color: #008000; text-decoration-color: #008000\">'rag-runtime'</span>,\n",
       "        <span style=\"color: #808000; text-decoration-color: #808000\">provider_resource_id</span>=<span style=\"color: #008000; text-decoration-color: #008000\">'insert_into_memory'</span>,\n",
       "        <span style=\"color: #808000; text-decoration-color: #808000\">tool_host</span>=<span style=\"color: #008000; text-decoration-color: #008000\">'distribution'</span>,\n",
       "        <span style=\"color: #808000; text-decoration-color: #808000\">toolgroup_id</span>=<span style=\"color: #008000; text-decoration-color: #008000\">'builtin::rag'</span>,\n",
       "        <span style=\"color: #808000; text-decoration-color: #808000\">type</span>=<span style=\"color: #008000; text-decoration-color: #008000\">'tool'</span>,\n",
       "        <span style=\"color: #808000; text-decoration-color: #808000\">metadata</span>=<span style=\"color: #800080; text-decoration-color: #800080; font-style: italic\">None</span>\n",
       "    <span style=\"font-weight: bold\">)</span>,\n",
       "    <span style=\"color: #800080; text-decoration-color: #800080; font-weight: bold\">Tool</span><span style=\"font-weight: bold\">(</span>\n",
       "        <span style=\"color: #808000; text-decoration-color: #808000\">description</span>=<span style=\"color: #008000; text-decoration-color: #008000\">'Search for information in a database.'</span>,\n",
       "        <span style=\"color: #808000; text-decoration-color: #808000\">identifier</span>=<span style=\"color: #008000; text-decoration-color: #008000\">'knowledge_search'</span>,\n",
       "        <span style=\"color: #808000; text-decoration-color: #808000\">parameters</span>=<span style=\"font-weight: bold\">[</span>\n",
       "            <span style=\"color: #800080; text-decoration-color: #800080; font-weight: bold\">Parameter</span><span style=\"font-weight: bold\">(</span>\n",
       "                <span style=\"color: #808000; text-decoration-color: #808000\">description</span>=<span style=\"color: #008000; text-decoration-color: #008000\">'The query to search for. Can be a natural language sentence or keywords.'</span>,\n",
       "                <span style=\"color: #808000; text-decoration-color: #808000\">name</span>=<span style=\"color: #008000; text-decoration-color: #008000\">'query'</span>,\n",
       "                <span style=\"color: #808000; text-decoration-color: #808000\">parameter_type</span>=<span style=\"color: #008000; text-decoration-color: #008000\">'string'</span>,\n",
       "                <span style=\"color: #808000; text-decoration-color: #808000\">required</span>=<span style=\"color: #00ff00; text-decoration-color: #00ff00; font-style: italic\">True</span>,\n",
       "                <span style=\"color: #808000; text-decoration-color: #808000\">default</span>=<span style=\"color: #800080; text-decoration-color: #800080; font-style: italic\">None</span>\n",
       "            <span style=\"font-weight: bold\">)</span>\n",
       "        <span style=\"font-weight: bold\">]</span>,\n",
       "        <span style=\"color: #808000; text-decoration-color: #808000\">provider_id</span>=<span style=\"color: #008000; text-decoration-color: #008000\">'rag-runtime'</span>,\n",
       "        <span style=\"color: #808000; text-decoration-color: #808000\">provider_resource_id</span>=<span style=\"color: #008000; text-decoration-color: #008000\">'knowledge_search'</span>,\n",
       "        <span style=\"color: #808000; text-decoration-color: #808000\">tool_host</span>=<span style=\"color: #008000; text-decoration-color: #008000\">'distribution'</span>,\n",
       "        <span style=\"color: #808000; text-decoration-color: #808000\">toolgroup_id</span>=<span style=\"color: #008000; text-decoration-color: #008000\">'builtin::rag'</span>,\n",
       "        <span style=\"color: #808000; text-decoration-color: #808000\">type</span>=<span style=\"color: #008000; text-decoration-color: #008000\">'tool'</span>,\n",
       "        <span style=\"color: #808000; text-decoration-color: #808000\">metadata</span>=<span style=\"color: #800080; text-decoration-color: #800080; font-style: italic\">None</span>\n",
       "    <span style=\"font-weight: bold\">)</span>,\n",
       "    <span style=\"color: #800080; text-decoration-color: #800080; font-weight: bold\">Tool</span><span style=\"font-weight: bold\">(</span>\n",
       "        <span style=\"color: #808000; text-decoration-color: #808000\">description</span>=<span style=\"color: #008000; text-decoration-color: #008000\">'Search the web for information'</span>,\n",
       "        <span style=\"color: #808000; text-decoration-color: #808000\">identifier</span>=<span style=\"color: #008000; text-decoration-color: #008000\">'web_search'</span>,\n",
       "        <span style=\"color: #808000; text-decoration-color: #808000\">parameters</span>=<span style=\"font-weight: bold\">[</span>\n",
       "            <span style=\"color: #800080; text-decoration-color: #800080; font-weight: bold\">Parameter</span><span style=\"font-weight: bold\">(</span>\n",
       "                <span style=\"color: #808000; text-decoration-color: #808000\">description</span>=<span style=\"color: #008000; text-decoration-color: #008000\">'The query to search for'</span>,\n",
       "                <span style=\"color: #808000; text-decoration-color: #808000\">name</span>=<span style=\"color: #008000; text-decoration-color: #008000\">'query'</span>,\n",
       "                <span style=\"color: #808000; text-decoration-color: #808000\">parameter_type</span>=<span style=\"color: #008000; text-decoration-color: #008000\">'string'</span>,\n",
       "                <span style=\"color: #808000; text-decoration-color: #808000\">required</span>=<span style=\"color: #00ff00; text-decoration-color: #00ff00; font-style: italic\">True</span>,\n",
       "                <span style=\"color: #808000; text-decoration-color: #808000\">default</span>=<span style=\"color: #800080; text-decoration-color: #800080; font-style: italic\">None</span>\n",
       "            <span style=\"font-weight: bold\">)</span>\n",
       "        <span style=\"font-weight: bold\">]</span>,\n",
       "        <span style=\"color: #808000; text-decoration-color: #808000\">provider_id</span>=<span style=\"color: #008000; text-decoration-color: #008000\">'tavily-search'</span>,\n",
       "        <span style=\"color: #808000; text-decoration-color: #808000\">provider_resource_id</span>=<span style=\"color: #008000; text-decoration-color: #008000\">'web_search'</span>,\n",
       "        <span style=\"color: #808000; text-decoration-color: #808000\">tool_host</span>=<span style=\"color: #008000; text-decoration-color: #008000\">'distribution'</span>,\n",
       "        <span style=\"color: #808000; text-decoration-color: #808000\">toolgroup_id</span>=<span style=\"color: #008000; text-decoration-color: #008000\">'builtin::websearch'</span>,\n",
       "        <span style=\"color: #808000; text-decoration-color: #808000\">type</span>=<span style=\"color: #008000; text-decoration-color: #008000\">'tool'</span>,\n",
       "        <span style=\"color: #808000; text-decoration-color: #808000\">metadata</span>=<span style=\"color: #800080; text-decoration-color: #800080; font-style: italic\">None</span>\n",
       "    <span style=\"font-weight: bold\">)</span>\n",
       "<span style=\"font-weight: bold\">]</span>\n",
       "</pre>\n"
      ],
      "text/plain": [
       "\u001b[1m[\u001b[0m\n",
       "    \u001b[1;35mTool\u001b[0m\u001b[1m(\u001b[0m\n",
       "        \u001b[33mdescription\u001b[0m=\u001b[32m'Insert documents into memory'\u001b[0m,\n",
       "        \u001b[33midentifier\u001b[0m=\u001b[32m'insert_into_memory'\u001b[0m,\n",
       "        \u001b[33mparameters\u001b[0m=\u001b[1m[\u001b[0m\u001b[1m]\u001b[0m,\n",
       "        \u001b[33mprovider_id\u001b[0m=\u001b[32m'rag-runtime'\u001b[0m,\n",
       "        \u001b[33mprovider_resource_id\u001b[0m=\u001b[32m'insert_into_memory'\u001b[0m,\n",
       "        \u001b[33mtool_host\u001b[0m=\u001b[32m'distribution'\u001b[0m,\n",
       "        \u001b[33mtoolgroup_id\u001b[0m=\u001b[32m'builtin::rag'\u001b[0m,\n",
       "        \u001b[33mtype\u001b[0m=\u001b[32m'tool'\u001b[0m,\n",
       "        \u001b[33mmetadata\u001b[0m=\u001b[3;35mNone\u001b[0m\n",
       "    \u001b[1m)\u001b[0m,\n",
       "    \u001b[1;35mTool\u001b[0m\u001b[1m(\u001b[0m\n",
       "        \u001b[33mdescription\u001b[0m=\u001b[32m'Search for information in a database.'\u001b[0m,\n",
       "        \u001b[33midentifier\u001b[0m=\u001b[32m'knowledge_search'\u001b[0m,\n",
       "        \u001b[33mparameters\u001b[0m=\u001b[1m[\u001b[0m\n",
       "            \u001b[1;35mParameter\u001b[0m\u001b[1m(\u001b[0m\n",
       "                \u001b[33mdescription\u001b[0m=\u001b[32m'The query to search for. Can be a natural language sentence or keywords.'\u001b[0m,\n",
       "                \u001b[33mname\u001b[0m=\u001b[32m'query'\u001b[0m,\n",
       "                \u001b[33mparameter_type\u001b[0m=\u001b[32m'string'\u001b[0m,\n",
       "                \u001b[33mrequired\u001b[0m=\u001b[3;92mTrue\u001b[0m,\n",
       "                \u001b[33mdefault\u001b[0m=\u001b[3;35mNone\u001b[0m\n",
       "            \u001b[1m)\u001b[0m\n",
       "        \u001b[1m]\u001b[0m,\n",
       "        \u001b[33mprovider_id\u001b[0m=\u001b[32m'rag-runtime'\u001b[0m,\n",
       "        \u001b[33mprovider_resource_id\u001b[0m=\u001b[32m'knowledge_search'\u001b[0m,\n",
       "        \u001b[33mtool_host\u001b[0m=\u001b[32m'distribution'\u001b[0m,\n",
       "        \u001b[33mtoolgroup_id\u001b[0m=\u001b[32m'builtin::rag'\u001b[0m,\n",
       "        \u001b[33mtype\u001b[0m=\u001b[32m'tool'\u001b[0m,\n",
       "        \u001b[33mmetadata\u001b[0m=\u001b[3;35mNone\u001b[0m\n",
       "    \u001b[1m)\u001b[0m,\n",
       "    \u001b[1;35mTool\u001b[0m\u001b[1m(\u001b[0m\n",
       "        \u001b[33mdescription\u001b[0m=\u001b[32m'Search the web for information'\u001b[0m,\n",
       "        \u001b[33midentifier\u001b[0m=\u001b[32m'web_search'\u001b[0m,\n",
       "        \u001b[33mparameters\u001b[0m=\u001b[1m[\u001b[0m\n",
       "            \u001b[1;35mParameter\u001b[0m\u001b[1m(\u001b[0m\n",
       "                \u001b[33mdescription\u001b[0m=\u001b[32m'The query to search for'\u001b[0m,\n",
       "                \u001b[33mname\u001b[0m=\u001b[32m'query'\u001b[0m,\n",
       "                \u001b[33mparameter_type\u001b[0m=\u001b[32m'string'\u001b[0m,\n",
       "                \u001b[33mrequired\u001b[0m=\u001b[3;92mTrue\u001b[0m,\n",
       "                \u001b[33mdefault\u001b[0m=\u001b[3;35mNone\u001b[0m\n",
       "            \u001b[1m)\u001b[0m\n",
       "        \u001b[1m]\u001b[0m,\n",
       "        \u001b[33mprovider_id\u001b[0m=\u001b[32m'tavily-search'\u001b[0m,\n",
       "        \u001b[33mprovider_resource_id\u001b[0m=\u001b[32m'web_search'\u001b[0m,\n",
       "        \u001b[33mtool_host\u001b[0m=\u001b[32m'distribution'\u001b[0m,\n",
       "        \u001b[33mtoolgroup_id\u001b[0m=\u001b[32m'builtin::websearch'\u001b[0m,\n",
       "        \u001b[33mtype\u001b[0m=\u001b[32m'tool'\u001b[0m,\n",
       "        \u001b[33mmetadata\u001b[0m=\u001b[3;35mNone\u001b[0m\n",
       "    \u001b[1m)\u001b[0m\n",
       "\u001b[1m]\u001b[0m\n"
      ]
     },
     "metadata": {},
     "output_type": "display_data"
    }
   ],
   "source": [
    "tools = client.tools.list()\n",
    "rich.print(tools)"
   ]
  },
  {
   "cell_type": "markdown",
   "metadata": {},
   "source": [
    "## Baseline"
   ]
  },
  {
   "cell_type": "code",
   "execution_count": 8,
   "metadata": {},
   "outputs": [],
   "source": [
    "client.toolgroups.register(\n",
    "    toolgroup_id=\"builtin::websearch\",\n",
    "    provider_id=\"tavily-search\",\n",
    ")"
   ]
  },
  {
   "cell_type": "code",
   "execution_count": 9,
   "metadata": {},
   "outputs": [
    {
     "data": {
      "text/html": [
       "<pre style=\"white-space:pre;overflow-x:auto;line-height:normal;font-family:Menlo,'DejaVu Sans Mono',consolas,'Courier New',monospace\"><span style=\"font-weight: bold\">[</span>\n",
       "    <span style=\"color: #800080; text-decoration-color: #800080; font-weight: bold\">ToolGroup</span><span style=\"font-weight: bold\">(</span>\n",
       "        <span style=\"color: #808000; text-decoration-color: #808000\">identifier</span>=<span style=\"color: #008000; text-decoration-color: #008000\">'builtin::rag'</span>,\n",
       "        <span style=\"color: #808000; text-decoration-color: #808000\">provider_id</span>=<span style=\"color: #008000; text-decoration-color: #008000\">'rag-runtime'</span>,\n",
       "        <span style=\"color: #808000; text-decoration-color: #808000\">provider_resource_id</span>=<span style=\"color: #008000; text-decoration-color: #008000\">'builtin::rag'</span>,\n",
       "        <span style=\"color: #808000; text-decoration-color: #808000\">type</span>=<span style=\"color: #008000; text-decoration-color: #008000\">'tool_group'</span>,\n",
       "        <span style=\"color: #808000; text-decoration-color: #808000\">args</span>=<span style=\"color: #800080; text-decoration-color: #800080; font-style: italic\">None</span>,\n",
       "        <span style=\"color: #808000; text-decoration-color: #808000\">mcp_endpoint</span>=<span style=\"color: #800080; text-decoration-color: #800080; font-style: italic\">None</span>\n",
       "    <span style=\"font-weight: bold\">)</span>,\n",
       "    <span style=\"color: #800080; text-decoration-color: #800080; font-weight: bold\">ToolGroup</span><span style=\"font-weight: bold\">(</span>\n",
       "        <span style=\"color: #808000; text-decoration-color: #808000\">identifier</span>=<span style=\"color: #008000; text-decoration-color: #008000\">'builtin::websearch'</span>,\n",
       "        <span style=\"color: #808000; text-decoration-color: #808000\">provider_id</span>=<span style=\"color: #008000; text-decoration-color: #008000\">'tavily-search'</span>,\n",
       "        <span style=\"color: #808000; text-decoration-color: #808000\">provider_resource_id</span>=<span style=\"color: #008000; text-decoration-color: #008000\">'builtin::websearch'</span>,\n",
       "        <span style=\"color: #808000; text-decoration-color: #808000\">type</span>=<span style=\"color: #008000; text-decoration-color: #008000\">'tool_group'</span>,\n",
       "        <span style=\"color: #808000; text-decoration-color: #808000\">args</span>=<span style=\"color: #800080; text-decoration-color: #800080; font-style: italic\">None</span>,\n",
       "        <span style=\"color: #808000; text-decoration-color: #808000\">mcp_endpoint</span>=<span style=\"color: #800080; text-decoration-color: #800080; font-style: italic\">None</span>\n",
       "    <span style=\"font-weight: bold\">)</span>\n",
       "<span style=\"font-weight: bold\">]</span>\n",
       "</pre>\n"
      ],
      "text/plain": [
       "\u001b[1m[\u001b[0m\n",
       "    \u001b[1;35mToolGroup\u001b[0m\u001b[1m(\u001b[0m\n",
       "        \u001b[33midentifier\u001b[0m=\u001b[32m'builtin::rag'\u001b[0m,\n",
       "        \u001b[33mprovider_id\u001b[0m=\u001b[32m'rag-runtime'\u001b[0m,\n",
       "        \u001b[33mprovider_resource_id\u001b[0m=\u001b[32m'builtin::rag'\u001b[0m,\n",
       "        \u001b[33mtype\u001b[0m=\u001b[32m'tool_group'\u001b[0m,\n",
       "        \u001b[33margs\u001b[0m=\u001b[3;35mNone\u001b[0m,\n",
       "        \u001b[33mmcp_endpoint\u001b[0m=\u001b[3;35mNone\u001b[0m\n",
       "    \u001b[1m)\u001b[0m,\n",
       "    \u001b[1;35mToolGroup\u001b[0m\u001b[1m(\u001b[0m\n",
       "        \u001b[33midentifier\u001b[0m=\u001b[32m'builtin::websearch'\u001b[0m,\n",
       "        \u001b[33mprovider_id\u001b[0m=\u001b[32m'tavily-search'\u001b[0m,\n",
       "        \u001b[33mprovider_resource_id\u001b[0m=\u001b[32m'builtin::websearch'\u001b[0m,\n",
       "        \u001b[33mtype\u001b[0m=\u001b[32m'tool_group'\u001b[0m,\n",
       "        \u001b[33margs\u001b[0m=\u001b[3;35mNone\u001b[0m,\n",
       "        \u001b[33mmcp_endpoint\u001b[0m=\u001b[3;35mNone\u001b[0m\n",
       "    \u001b[1m)\u001b[0m\n",
       "\u001b[1m]\u001b[0m\n"
      ]
     },
     "metadata": {},
     "output_type": "display_data"
    }
   ],
   "source": [
    "toolgroups = client.toolgroups.list()\n",
    "rich.print(toolgroups)"
   ]
  },
  {
   "cell_type": "code",
   "execution_count": 10,
   "metadata": {},
   "outputs": [],
   "source": [
    "agent = Agent(\n",
    "    client,\n",
    "    model=\"meta-llama/Llama-3.2-3B-Instruct\",\n",
    "    instructions=\"You are a helpful assistant.\",\n",
    "    tools=[\"builtin::websearch\"],\n",
    ")"
   ]
  },
  {
   "cell_type": "code",
   "execution_count": 11,
   "metadata": {},
   "outputs": [
    {
     "data": {
      "text/html": [
       "<pre style=\"white-space:pre;overflow-x:auto;line-height:normal;font-family:Menlo,'DejaVu Sans Mono',consolas,'Courier New',monospace\"><span style=\"color: #800080; text-decoration-color: #800080; font-weight: bold\">Turn</span><span style=\"font-weight: bold\">(</span>\n",
       "    <span style=\"color: #808000; text-decoration-color: #808000\">input_messages</span>=<span style=\"font-weight: bold\">[</span><span style=\"color: #800080; text-decoration-color: #800080; font-weight: bold\">UserMessage</span><span style=\"font-weight: bold\">(</span><span style=\"color: #808000; text-decoration-color: #808000\">content</span>=<span style=\"color: #008000; text-decoration-color: #008000\">'Are you able to search the web?'</span>, <span style=\"color: #808000; text-decoration-color: #808000\">role</span>=<span style=\"color: #008000; text-decoration-color: #008000\">'user'</span>, <span style=\"color: #808000; text-decoration-color: #808000\">context</span>=<span style=\"color: #800080; text-decoration-color: #800080; font-style: italic\">None</span><span style=\"font-weight: bold\">)]</span>,\n",
       "    <span style=\"color: #808000; text-decoration-color: #808000\">output_message</span>=<span style=\"color: #800080; text-decoration-color: #800080; font-weight: bold\">CompletionMessage</span><span style=\"font-weight: bold\">(</span>\n",
       "        <span style=\"color: #808000; text-decoration-color: #808000\">content</span>=<span style=\"color: #008000; text-decoration-color: #008000\">'Yes, I can search the web for information on a wide range of topics. What would you like me to </span>\n",
       "<span style=\"color: #008000; text-decoration-color: #008000\">look up?'</span>,\n",
       "        <span style=\"color: #808000; text-decoration-color: #808000\">role</span>=<span style=\"color: #008000; text-decoration-color: #008000\">'assistant'</span>,\n",
       "        <span style=\"color: #808000; text-decoration-color: #808000\">stop_reason</span>=<span style=\"color: #008000; text-decoration-color: #008000\">'end_of_turn'</span>,\n",
       "        <span style=\"color: #808000; text-decoration-color: #808000\">tool_calls</span>=<span style=\"font-weight: bold\">[]</span>\n",
       "    <span style=\"font-weight: bold\">)</span>,\n",
       "    <span style=\"color: #808000; text-decoration-color: #808000\">session_id</span>=<span style=\"color: #008000; text-decoration-color: #008000\">'ccbed6cc-eec9-4fdb-acde-d87763dae77e'</span>,\n",
       "    <span style=\"color: #808000; text-decoration-color: #808000\">started_at</span>=<span style=\"color: #800080; text-decoration-color: #800080; font-weight: bold\">datetime</span><span style=\"color: #800080; text-decoration-color: #800080; font-weight: bold\">.datetime</span><span style=\"font-weight: bold\">(</span><span style=\"color: #008080; text-decoration-color: #008080; font-weight: bold\">2025</span>, <span style=\"color: #008080; text-decoration-color: #008080; font-weight: bold\">5</span>, <span style=\"color: #008080; text-decoration-color: #008080; font-weight: bold\">12</span>, <span style=\"color: #008080; text-decoration-color: #008080; font-weight: bold\">13</span>, <span style=\"color: #008080; text-decoration-color: #008080; font-weight: bold\">25</span>, <span style=\"color: #008080; text-decoration-color: #008080; font-weight: bold\">45</span>, <span style=\"color: #008080; text-decoration-color: #008080; font-weight: bold\">680943</span>, <span style=\"color: #808000; text-decoration-color: #808000\">tzinfo</span>=<span style=\"color: #800080; text-decoration-color: #800080; font-weight: bold\">TzInfo</span><span style=\"font-weight: bold\">(</span>UTC<span style=\"font-weight: bold\">))</span>,\n",
       "    <span style=\"color: #808000; text-decoration-color: #808000\">steps</span>=<span style=\"font-weight: bold\">[</span>\n",
       "        <span style=\"color: #800080; text-decoration-color: #800080; font-weight: bold\">InferenceStep</span><span style=\"font-weight: bold\">(</span>\n",
       "            <span style=\"color: #808000; text-decoration-color: #808000\">api_model_response</span>=<span style=\"color: #800080; text-decoration-color: #800080; font-weight: bold\">CompletionMessage</span><span style=\"font-weight: bold\">(</span>\n",
       "                <span style=\"color: #808000; text-decoration-color: #808000\">content</span>=<span style=\"color: #008000; text-decoration-color: #008000\">'Yes, I can search the web for information on a wide range of topics. What would you like </span>\n",
       "<span style=\"color: #008000; text-decoration-color: #008000\">me to look up?'</span>,\n",
       "                <span style=\"color: #808000; text-decoration-color: #808000\">role</span>=<span style=\"color: #008000; text-decoration-color: #008000\">'assistant'</span>,\n",
       "                <span style=\"color: #808000; text-decoration-color: #808000\">stop_reason</span>=<span style=\"color: #008000; text-decoration-color: #008000\">'end_of_turn'</span>,\n",
       "                <span style=\"color: #808000; text-decoration-color: #808000\">tool_calls</span>=<span style=\"font-weight: bold\">[]</span>\n",
       "            <span style=\"font-weight: bold\">)</span>,\n",
       "            <span style=\"color: #808000; text-decoration-color: #808000\">step_id</span>=<span style=\"color: #008000; text-decoration-color: #008000\">'4fb0c171-3895-418f-9cd9-ca4d06869805'</span>,\n",
       "            <span style=\"color: #808000; text-decoration-color: #808000\">step_type</span>=<span style=\"color: #008000; text-decoration-color: #008000\">'inference'</span>,\n",
       "            <span style=\"color: #808000; text-decoration-color: #808000\">turn_id</span>=<span style=\"color: #008000; text-decoration-color: #008000\">'8699252e-bb45-4a41-a1f8-6dd12b24a092'</span>,\n",
       "            <span style=\"color: #808000; text-decoration-color: #808000\">completed_at</span>=<span style=\"color: #800080; text-decoration-color: #800080; font-weight: bold\">datetime</span><span style=\"color: #800080; text-decoration-color: #800080; font-weight: bold\">.datetime</span><span style=\"font-weight: bold\">(</span><span style=\"color: #008080; text-decoration-color: #008080; font-weight: bold\">2025</span>, <span style=\"color: #008080; text-decoration-color: #008080; font-weight: bold\">5</span>, <span style=\"color: #008080; text-decoration-color: #008080; font-weight: bold\">12</span>, <span style=\"color: #008080; text-decoration-color: #008080; font-weight: bold\">13</span>, <span style=\"color: #008080; text-decoration-color: #008080; font-weight: bold\">25</span>, <span style=\"color: #008080; text-decoration-color: #008080; font-weight: bold\">46</span>, <span style=\"color: #008080; text-decoration-color: #008080; font-weight: bold\">945354</span>, <span style=\"color: #808000; text-decoration-color: #808000\">tzinfo</span>=<span style=\"color: #800080; text-decoration-color: #800080; font-weight: bold\">TzInfo</span><span style=\"font-weight: bold\">(</span>UTC<span style=\"font-weight: bold\">))</span>,\n",
       "            <span style=\"color: #808000; text-decoration-color: #808000\">started_at</span>=<span style=\"color: #800080; text-decoration-color: #800080; font-weight: bold\">datetime</span><span style=\"color: #800080; text-decoration-color: #800080; font-weight: bold\">.datetime</span><span style=\"font-weight: bold\">(</span><span style=\"color: #008080; text-decoration-color: #008080; font-weight: bold\">2025</span>, <span style=\"color: #008080; text-decoration-color: #008080; font-weight: bold\">5</span>, <span style=\"color: #008080; text-decoration-color: #008080; font-weight: bold\">12</span>, <span style=\"color: #008080; text-decoration-color: #008080; font-weight: bold\">13</span>, <span style=\"color: #008080; text-decoration-color: #008080; font-weight: bold\">25</span>, <span style=\"color: #008080; text-decoration-color: #008080; font-weight: bold\">45</span>, <span style=\"color: #008080; text-decoration-color: #008080; font-weight: bold\">681050</span>, <span style=\"color: #808000; text-decoration-color: #808000\">tzinfo</span>=<span style=\"color: #800080; text-decoration-color: #800080; font-weight: bold\">TzInfo</span><span style=\"font-weight: bold\">(</span>UTC<span style=\"font-weight: bold\">))</span>\n",
       "        <span style=\"font-weight: bold\">)</span>\n",
       "    <span style=\"font-weight: bold\">]</span>,\n",
       "    <span style=\"color: #808000; text-decoration-color: #808000\">turn_id</span>=<span style=\"color: #008000; text-decoration-color: #008000\">'8699252e-bb45-4a41-a1f8-6dd12b24a092'</span>,\n",
       "    <span style=\"color: #808000; text-decoration-color: #808000\">completed_at</span>=<span style=\"color: #800080; text-decoration-color: #800080; font-weight: bold\">datetime</span><span style=\"color: #800080; text-decoration-color: #800080; font-weight: bold\">.datetime</span><span style=\"font-weight: bold\">(</span><span style=\"color: #008080; text-decoration-color: #008080; font-weight: bold\">2025</span>, <span style=\"color: #008080; text-decoration-color: #008080; font-weight: bold\">5</span>, <span style=\"color: #008080; text-decoration-color: #008080; font-weight: bold\">12</span>, <span style=\"color: #008080; text-decoration-color: #008080; font-weight: bold\">13</span>, <span style=\"color: #008080; text-decoration-color: #008080; font-weight: bold\">25</span>, <span style=\"color: #008080; text-decoration-color: #008080; font-weight: bold\">46</span>, <span style=\"color: #008080; text-decoration-color: #008080; font-weight: bold\">956020</span>, <span style=\"color: #808000; text-decoration-color: #808000\">tzinfo</span>=<span style=\"color: #800080; text-decoration-color: #800080; font-weight: bold\">TzInfo</span><span style=\"font-weight: bold\">(</span>UTC<span style=\"font-weight: bold\">))</span>,\n",
       "    <span style=\"color: #808000; text-decoration-color: #808000\">output_attachments</span>=<span style=\"font-weight: bold\">[]</span>\n",
       "<span style=\"font-weight: bold\">)</span>\n",
       "</pre>\n"
      ],
      "text/plain": [
       "\u001b[1;35mTurn\u001b[0m\u001b[1m(\u001b[0m\n",
       "    \u001b[33minput_messages\u001b[0m=\u001b[1m[\u001b[0m\u001b[1;35mUserMessage\u001b[0m\u001b[1m(\u001b[0m\u001b[33mcontent\u001b[0m=\u001b[32m'Are you able to search the web?'\u001b[0m, \u001b[33mrole\u001b[0m=\u001b[32m'user'\u001b[0m, \u001b[33mcontext\u001b[0m=\u001b[3;35mNone\u001b[0m\u001b[1m)\u001b[0m\u001b[1m]\u001b[0m,\n",
       "    \u001b[33moutput_message\u001b[0m=\u001b[1;35mCompletionMessage\u001b[0m\u001b[1m(\u001b[0m\n",
       "        \u001b[33mcontent\u001b[0m=\u001b[32m'Yes, I can search the web for information on a wide range of topics. What would you like me to \u001b[0m\n",
       "\u001b[32mlook up?'\u001b[0m,\n",
       "        \u001b[33mrole\u001b[0m=\u001b[32m'assistant'\u001b[0m,\n",
       "        \u001b[33mstop_reason\u001b[0m=\u001b[32m'end_of_turn'\u001b[0m,\n",
       "        \u001b[33mtool_calls\u001b[0m=\u001b[1m[\u001b[0m\u001b[1m]\u001b[0m\n",
       "    \u001b[1m)\u001b[0m,\n",
       "    \u001b[33msession_id\u001b[0m=\u001b[32m'ccbed6cc-eec9-4fdb-acde-d87763dae77e'\u001b[0m,\n",
       "    \u001b[33mstarted_at\u001b[0m=\u001b[1;35mdatetime\u001b[0m\u001b[1;35m.datetime\u001b[0m\u001b[1m(\u001b[0m\u001b[1;36m2025\u001b[0m, \u001b[1;36m5\u001b[0m, \u001b[1;36m12\u001b[0m, \u001b[1;36m13\u001b[0m, \u001b[1;36m25\u001b[0m, \u001b[1;36m45\u001b[0m, \u001b[1;36m680943\u001b[0m, \u001b[33mtzinfo\u001b[0m=\u001b[1;35mTzInfo\u001b[0m\u001b[1m(\u001b[0mUTC\u001b[1m)\u001b[0m\u001b[1m)\u001b[0m,\n",
       "    \u001b[33msteps\u001b[0m=\u001b[1m[\u001b[0m\n",
       "        \u001b[1;35mInferenceStep\u001b[0m\u001b[1m(\u001b[0m\n",
       "            \u001b[33mapi_model_response\u001b[0m=\u001b[1;35mCompletionMessage\u001b[0m\u001b[1m(\u001b[0m\n",
       "                \u001b[33mcontent\u001b[0m=\u001b[32m'Yes, I can search the web for information on a wide range of topics. What would you like \u001b[0m\n",
       "\u001b[32mme to look up?'\u001b[0m,\n",
       "                \u001b[33mrole\u001b[0m=\u001b[32m'assistant'\u001b[0m,\n",
       "                \u001b[33mstop_reason\u001b[0m=\u001b[32m'end_of_turn'\u001b[0m,\n",
       "                \u001b[33mtool_calls\u001b[0m=\u001b[1m[\u001b[0m\u001b[1m]\u001b[0m\n",
       "            \u001b[1m)\u001b[0m,\n",
       "            \u001b[33mstep_id\u001b[0m=\u001b[32m'4fb0c171-3895-418f-9cd9-ca4d06869805'\u001b[0m,\n",
       "            \u001b[33mstep_type\u001b[0m=\u001b[32m'inference'\u001b[0m,\n",
       "            \u001b[33mturn_id\u001b[0m=\u001b[32m'8699252e-bb45-4a41-a1f8-6dd12b24a092'\u001b[0m,\n",
       "            \u001b[33mcompleted_at\u001b[0m=\u001b[1;35mdatetime\u001b[0m\u001b[1;35m.datetime\u001b[0m\u001b[1m(\u001b[0m\u001b[1;36m2025\u001b[0m, \u001b[1;36m5\u001b[0m, \u001b[1;36m12\u001b[0m, \u001b[1;36m13\u001b[0m, \u001b[1;36m25\u001b[0m, \u001b[1;36m46\u001b[0m, \u001b[1;36m945354\u001b[0m, \u001b[33mtzinfo\u001b[0m=\u001b[1;35mTzInfo\u001b[0m\u001b[1m(\u001b[0mUTC\u001b[1m)\u001b[0m\u001b[1m)\u001b[0m,\n",
       "            \u001b[33mstarted_at\u001b[0m=\u001b[1;35mdatetime\u001b[0m\u001b[1;35m.datetime\u001b[0m\u001b[1m(\u001b[0m\u001b[1;36m2025\u001b[0m, \u001b[1;36m5\u001b[0m, \u001b[1;36m12\u001b[0m, \u001b[1;36m13\u001b[0m, \u001b[1;36m25\u001b[0m, \u001b[1;36m45\u001b[0m, \u001b[1;36m681050\u001b[0m, \u001b[33mtzinfo\u001b[0m=\u001b[1;35mTzInfo\u001b[0m\u001b[1m(\u001b[0mUTC\u001b[1m)\u001b[0m\u001b[1m)\u001b[0m\n",
       "        \u001b[1m)\u001b[0m\n",
       "    \u001b[1m]\u001b[0m,\n",
       "    \u001b[33mturn_id\u001b[0m=\u001b[32m'8699252e-bb45-4a41-a1f8-6dd12b24a092'\u001b[0m,\n",
       "    \u001b[33mcompleted_at\u001b[0m=\u001b[1;35mdatetime\u001b[0m\u001b[1;35m.datetime\u001b[0m\u001b[1m(\u001b[0m\u001b[1;36m2025\u001b[0m, \u001b[1;36m5\u001b[0m, \u001b[1;36m12\u001b[0m, \u001b[1;36m13\u001b[0m, \u001b[1;36m25\u001b[0m, \u001b[1;36m46\u001b[0m, \u001b[1;36m956020\u001b[0m, \u001b[33mtzinfo\u001b[0m=\u001b[1;35mTzInfo\u001b[0m\u001b[1m(\u001b[0mUTC\u001b[1m)\u001b[0m\u001b[1m)\u001b[0m,\n",
       "    \u001b[33moutput_attachments\u001b[0m=\u001b[1m[\u001b[0m\u001b[1m]\u001b[0m\n",
       "\u001b[1m)\u001b[0m\n"
      ]
     },
     "metadata": {},
     "output_type": "display_data"
    }
   ],
   "source": [
    "response = agent.create_turn(\n",
    "    messages=[{\"role\": \"user\", \"content\": \"Are you able to search the web?\"}],\n",
    "    session_id=agent.create_session(f\"tool-check-{uuid.uuid4()}\"),\n",
    "    stream=False,\n",
    ")\n",
    "rich.print(response)"
   ]
  },
  {
   "cell_type": "code",
   "execution_count": 12,
   "metadata": {},
   "outputs": [
    {
     "data": {
      "text/html": [
       "<pre style=\"white-space:pre;overflow-x:auto;line-height:normal;font-family:Menlo,'DejaVu Sans Mono',consolas,'Courier New',monospace\">User&gt; Are there any weather-related risks in my area that could disrupt network connectivity or system \n",
       "availability?\n",
       "</pre>\n"
      ],
      "text/plain": [
       "User> Are there any weather-related risks in my area that could disrupt network connectivity or system \n",
       "availability?\n"
      ]
     },
     "metadata": {},
     "output_type": "display_data"
    },
    {
     "name": "stdout",
     "output_type": "stream",
     "text": [
      "\u001b[33minference> \u001b[0m\u001b[36m\u001b[0m\u001b[36mbr\u001b[0m\u001b[36mave\u001b[0m\u001b[36m_search\u001b[0m\u001b[36m.call\u001b[0m\u001b[36m(query\u001b[0m\u001b[36m=\"\u001b[0m\u001b[36mweather\u001b[0m\u001b[36m-related\u001b[0m\u001b[36m risks\u001b[0m\u001b[36m near\u001b[0m\u001b[36m me\u001b[0m\u001b[36m\")\u001b[0m\u001b[97m\u001b[0m\n",
      "\u001b[32mtool_execution> Tool:brave_search Args:{'query': 'weather-related risks near me'}\u001b[0m\n",
      "\u001b[32mtool_execution> Tool:brave_search Response:{\"query\": \"weather-related risks near me\", \"top_k\": [{\"title\": \"Weather in current location\", \"url\": \"https://www.weatherapi.com/\", \"content\": \"{'location': {'name': 'Current', 'region': 'Harbour Island', 'country': 'Bahamas', 'lat': 25.4333, 'lon': -76.7833, 'tz_id': 'America/Nassau', 'localtime_epoch': 1747056156, 'localtime': '2025-05-12 09:22'}, 'current': {'last_updated_epoch': 1747055700, 'last_updated': '2025-05-12 09:15', 'temp_c': 24.6, 'temp_f': 76.3, 'is_day': 1, 'condition': {'text': 'Overcast', 'icon': '//cdn.weatherapi.com/weather/64x64/day/122.png', 'code': 1009}, 'wind_mph': 19.2, 'wind_kph': 31.0, 'wind_degree': 117, 'wind_dir': 'ESE', 'pressure_mb': 1021.0, 'pressure_in': 30.14, 'precip_mm': 0.0, 'precip_in': 0.0, 'humidity': 96, 'cloud': 100, 'feelslike_c': 27.6, 'feelslike_f': 81.6, 'windchill_c': 24.6, 'windchill_f': 76.3, 'heatindex_c': 27.6, 'heatindex_f': 81.6, 'dewpoint_c': 24.2, 'dewpoint_f': 75.6, 'vis_km': 10.0, 'vis_miles': 6.0, 'uv': 1.8, 'gust_mph': 26.2, 'gust_kph': 42.2}}\", \"score\": 0.793568, \"raw_content\": null}, {\"title\": \"Enhanced Hazardous Weather Outlook Ohio\", \"url\": \"https://www.weather.gov/iln/ehwooh\", \"content\": \"| Elevated | Probability of severe wind gusts (58 mph or greater) within 25 miles of a point:Equal to or greater than 15%Be prepared to secure unsecured property to prevent wind damage. | Significant | Probability of severe wind gusts (58 mph or greater) within 25 miles of a point:Equal to or greater than 45%Plan to secure unsecured property to prevent wind damage. | Extreme | Probability of severe wind gusts (58 mph or greater) within 25 miles of a point:Equal to or greater than 60%Plan to secure unsecured property to prevent wind damage. | Extreme | Probability of severe thunderstorms*within 25 miles of a point:Equal to or greater than 60%Review weather safety tips and emergency kit.\", \"score\": 0.1782685, \"raw_content\": null}, {\"title\": \"All Severe Weather Outlooks for the next 8 days | Severe Weather Outlook\", \"url\": \"https://www.severeweatheroutlook.com/everything/\", \"content\": \"Persistent south/southeasterly low-level flow across the Gulf and southern Plains will result in northward transport of rich boundary-layer moisture across the southern and parts of the central Plains through at least Day 6/Fri. Forecast guidance suggests weak shortwave impulses may float through modest southwesterly flow Days 4-5/Wed-Thu, perhaps providing some support for isolated to scattered thunderstorm potential across the warm sector over TX/OK/KS. Persistent south/southeasterly low-level flow across the Gulf and southern Plains will result in northward transport of rich boundary-layer moisture across the southern and parts of the central Plains through at least Day 6/Fri. Forecast guidance suggests weak shortwave impulses may float through modest southwesterly flow Days 4-5/Wed-Thu, perhaps providing some support for isolated to scattered thunderstorm potential across the warm sector over TX/OK/KS.\", \"score\": 0.1493951, \"raw_content\": null}, {\"title\": \"How much snow will Columbus, OH get? | 10tv.com\", \"url\": \"https://www.10tv.com/article/weather/weather-blog/how-much-snow-will-columbus-ohio-get-winter-storm-forecast/530-e0ee3ae0-b085-4510-ae8d-69a5996d4d20\", \"content\": \"Areas under a Winter Storm Warning have an increased risk of sleet and freezing rain in southern Ohio, with some ice accumulations in the southernmost counties.\", \"score\": 0.075455405, \"raw_content\": null}, {\"title\": \"Columbus, OH Weather Advisories - Warnings & Watches | AccuWeather\", \"url\": \"https://www.accuweather.com/en/us/columbus/43215/weather-warnings/350128\", \"content\": \"Columbus, OH Weather Advisories - Warnings & Watches | AccuWeather Columbus, OH Weather captions settings, opens captions settings dialog captions off, selected ### Hurricane Tracker### Severe Weather### Radar & Maps### News### Video### Winter Center Severe Weather \\u2018High risk\\u2019 severe weather, tornado outbreak to target 30 states 29 minutes ago Astronomy What time is the lunar eclipse on Thursday night? All Games For Business For Partners For Advertising AccuWeather APIs AccuWeather Connect RealFeel\\u00ae and RealFeel Shade\\u2122 Personal Weather Stations AccuWeather Ready Business Health Hurricane Leisure and Recreation Severe Weather Space and Astronomy Sports Travel Weather News Winter Center AccuWeather Ready Business Health Hurricane Leisure and Recreation Severe Weather Space and Astronomy Sports Travel Weather News Winter Center\", \"score\": 0.03749929, \"raw_content\": null}]}\u001b[0m\n",
      "\u001b[33minference> \u001b[0m\u001b[33mBased\u001b[0m\u001b[33m on\u001b[0m\u001b[33m the\u001b[0m\u001b[33m search\u001b[0m\u001b[33m results\u001b[0m\u001b[33m,\u001b[0m\u001b[33m it\u001b[0m\u001b[33m appears\u001b[0m\u001b[33m that\u001b[0m\u001b[33m there\u001b[0m\u001b[33m are\u001b[0m\u001b[33m several\u001b[0m\u001b[33m weather\u001b[0m\u001b[33m-related\u001b[0m\u001b[33m risks\u001b[0m\u001b[33m in\u001b[0m\u001b[33m your\u001b[0m\u001b[33m area\u001b[0m\u001b[33m that\u001b[0m\u001b[33m could\u001b[0m\u001b[33m disrupt\u001b[0m\u001b[33m network\u001b[0m\u001b[33m connectivity\u001b[0m\u001b[33m or\u001b[0m\u001b[33m system\u001b[0m\u001b[33m availability\u001b[0m\u001b[33m.\u001b[0m\u001b[33m The\u001b[0m\u001b[33m current\u001b[0m\u001b[33m weather\u001b[0m\u001b[33m conditions\u001b[0m\u001b[33m in\u001b[0m\u001b[33m your\u001b[0m\u001b[33m location\u001b[0m\u001b[33m include\u001b[0m\u001b[33m over\u001b[0m\u001b[33mcast\u001b[0m\u001b[33m skies\u001b[0m\u001b[33m with\u001b[0m\u001b[33m a\u001b[0m\u001b[33m temperature\u001b[0m\u001b[33m of\u001b[0m\u001b[33m \u001b[0m\u001b[33m24\u001b[0m\u001b[33m.\u001b[0m\u001b[33m6\u001b[0m\u001b[33m°C\u001b[0m\u001b[33m (\u001b[0m\u001b[33m76\u001b[0m\u001b[33m.\u001b[0m\u001b[33m3\u001b[0m\u001b[33m°F\u001b[0m\u001b[33m)\u001b[0m\u001b[33m and\u001b[0m\u001b[33m a\u001b[0m\u001b[33m wind\u001b[0m\u001b[33m speed\u001b[0m\u001b[33m of\u001b[0m\u001b[33m \u001b[0m\u001b[33m19\u001b[0m\u001b[33m.\u001b[0m\u001b[33m2\u001b[0m\u001b[33m km\u001b[0m\u001b[33m/h\u001b[0m\u001b[33m (\u001b[0m\u001b[33m11\u001b[0m\u001b[33m.\u001b[0m\u001b[33m9\u001b[0m\u001b[33m mph\u001b[0m\u001b[33m).\u001b[0m\u001b[33m There\u001b[0m\u001b[33m is\u001b[0m\u001b[33m also\u001b[0m\u001b[33m a\u001b[0m\u001b[33m chance\u001b[0m\u001b[33m of\u001b[0m\u001b[33m severe\u001b[0m\u001b[33m thunder\u001b[0m\u001b[33mstorms\u001b[0m\u001b[33m and\u001b[0m\u001b[33m strong\u001b[0m\u001b[33m winds\u001b[0m\u001b[33m,\u001b[0m\u001b[33m with\u001b[0m\u001b[33m a\u001b[0m\u001b[33m probability\u001b[0m\u001b[33m of\u001b[0m\u001b[33m \u001b[0m\u001b[33m60\u001b[0m\u001b[33m%\u001b[0m\u001b[33m within\u001b[0m\u001b[33m the\u001b[0m\u001b[33m next\u001b[0m\u001b[33m \u001b[0m\u001b[33m25\u001b[0m\u001b[33m miles\u001b[0m\u001b[33m.\n",
      "\n",
      "\u001b[0m\u001b[33mAdditionally\u001b[0m\u001b[33m,\u001b[0m\u001b[33m there\u001b[0m\u001b[33m are\u001b[0m\u001b[33m several\u001b[0m\u001b[33m weather\u001b[0m\u001b[33m advis\u001b[0m\u001b[33mories\u001b[0m\u001b[33m and\u001b[0m\u001b[33m warnings\u001b[0m\u001b[33m in\u001b[0m\u001b[33m effect\u001b[0m\u001b[33m for\u001b[0m\u001b[33m your\u001b[0m\u001b[33m area\u001b[0m\u001b[33m,\u001b[0m\u001b[33m including\u001b[0m\u001b[33m a\u001b[0m\u001b[33m Winter\u001b[0m\u001b[33m Storm\u001b[0m\u001b[33m Warning\u001b[0m\u001b[33m for\u001b[0m\u001b[33m southern\u001b[0m\u001b[33m Ohio\u001b[0m\u001b[33m,\u001b[0m\u001b[33m which\u001b[0m\u001b[33m could\u001b[0m\u001b[33m lead\u001b[0m\u001b[33m to\u001b[0m\u001b[33m s\u001b[0m\u001b[33mleet\u001b[0m\u001b[33m and\u001b[0m\u001b[33m freezing\u001b[0m\u001b[33m rain\u001b[0m\u001b[33m.\u001b[0m\u001b[33m It\u001b[0m\u001b[33m's\u001b[0m\u001b[33m recommended\u001b[0m\u001b[33m to\u001b[0m\u001b[33m secure\u001b[0m\u001b[33m un\u001b[0m\u001b[33msecured\u001b[0m\u001b[33m property\u001b[0m\u001b[33m to\u001b[0m\u001b[33m prevent\u001b[0m\u001b[33m wind\u001b[0m\u001b[33m damage\u001b[0m\u001b[33m and\u001b[0m\u001b[33m be\u001b[0m\u001b[33m prepared\u001b[0m\u001b[33m for\u001b[0m\u001b[33m severe\u001b[0m\u001b[33m weather\u001b[0m\u001b[33m conditions\u001b[0m\u001b[33m.\n",
      "\n",
      "\u001b[0m\u001b[33mIt\u001b[0m\u001b[33m's\u001b[0m\u001b[33m always\u001b[0m\u001b[33m a\u001b[0m\u001b[33m good\u001b[0m\u001b[33m idea\u001b[0m\u001b[33m to\u001b[0m\u001b[33m check\u001b[0m\u001b[33m the\u001b[0m\u001b[33m latest\u001b[0m\u001b[33m weather\u001b[0m\u001b[33m forecast\u001b[0m\u001b[33m and\u001b[0m\u001b[33m advis\u001b[0m\u001b[33mories\u001b[0m\u001b[33m before\u001b[0m\u001b[33m traveling\u001b[0m\u001b[33m or\u001b[0m\u001b[33m engaging\u001b[0m\u001b[33m in\u001b[0m\u001b[33m outdoor\u001b[0m\u001b[33m activities\u001b[0m\u001b[33m that\u001b[0m\u001b[33m may\u001b[0m\u001b[33m be\u001b[0m\u001b[33m affected\u001b[0m\u001b[33m by\u001b[0m\u001b[33m the\u001b[0m\u001b[33m weather\u001b[0m\u001b[33m.\u001b[0m\u001b[33m You\u001b[0m\u001b[33m can\u001b[0m\u001b[33m also\u001b[0m\u001b[33m consider\u001b[0m\u001b[33m taking\u001b[0m\u001b[33m precautions\u001b[0m\u001b[33m such\u001b[0m\u001b[33m as\u001b[0m\u001b[33m securing\u001b[0m\u001b[33m loose\u001b[0m\u001b[33m outdoor\u001b[0m\u001b[33m items\u001b[0m\u001b[33m,\u001b[0m\u001b[33m staying\u001b[0m\u001b[33m indoors\u001b[0m\u001b[33m during\u001b[0m\u001b[33m strong\u001b[0m\u001b[33m winds\u001b[0m\u001b[33m,\u001b[0m\u001b[33m and\u001b[0m\u001b[33m avoiding\u001b[0m\u001b[33m travel\u001b[0m\u001b[33m unless\u001b[0m\u001b[33m necessary\u001b[0m\u001b[33m.\u001b[0m\u001b[97m\u001b[0m\n",
      "\u001b[30m\u001b[0m"
     ]
    }
   ],
   "source": [
    "agent = Agent(\n",
    "    client, \n",
    "    model=\"meta-llama/Llama-3.2-3B-Instruct\",\n",
    "    instructions=\"You are a helpful assistant. Use websearch tool to help answer questions.\",\n",
    "    tools=[\"builtin::websearch\"],\n",
    ")\n",
    "user_prompts = [\n",
    "    # \"Are there any weather-related risks in my area?\",\n",
    "    \"Are there any weather-related risks in my area that could disrupt network connectivity or system availability?\",\n",
    "\n",
    "]\n",
    "session_id = agent.create_session(f\"test-session-{uuid.uuid4()}\")\n",
    "for prompt in user_prompts:\n",
    "    rich.print(f\"User> {prompt}\")\n",
    "\n",
    "    response = agent.create_turn(\n",
    "        messages=[{\"role\": \"user\", \"content\": prompt}],\n",
    "        session_id=session_id,\n",
    "        stream=True,\n",
    "    )\n",
    "    for log in AgentEventLogger().log(response):\n",
    "        log.print()"
   ]
  },
  {
   "cell_type": "markdown",
   "metadata": {},
   "source": [
    "## Prompt Chaining"
   ]
  },
  {
   "cell_type": "code",
   "execution_count": 13,
   "metadata": {},
   "outputs": [
    {
     "data": {
      "text/html": [
       "<pre style=\"white-space:pre;overflow-x:auto;line-height:normal;font-family:Menlo,'DejaVu Sans Mono',consolas,'Courier New',monospace\">User&gt; Where am I?\n",
       "</pre>\n"
      ],
      "text/plain": [
       "User> Where am I?\n"
      ]
     },
     "metadata": {},
     "output_type": "display_data"
    },
    {
     "name": "stdout",
     "output_type": "stream",
     "text": [
      "\u001b[33minference> \u001b[0m\u001b[33m[\u001b[0m\u001b[33mget\u001b[0m\u001b[33m_location\u001b[0m\u001b[33m(query\u001b[0m\u001b[33m=\"\u001b[0m\u001b[33mmy\u001b[0m\u001b[33m current\u001b[0m\u001b[33m location\u001b[0m\u001b[33m\")]\u001b[0m\u001b[97m\u001b[0m\n",
      "\u001b[30m\u001b[0m\u001b[32mtool_execution> Tool:get_location Args:{'query': 'my current location'}\u001b[0m\n",
      "\u001b[32mtool_execution> Tool:get_location Response:\"Your current location is: London, England, GB\"\u001b[0m\n",
      "\u001b[33minference> \u001b[0m\u001b[36m\u001b[0m\u001b[36m{\"\u001b[0m\u001b[36mlocation\u001b[0m\u001b[36m\":\u001b[0m\u001b[36m \"\u001b[0m\u001b[36mLondon\u001b[0m\u001b[36m,\u001b[0m\u001b[36m England\u001b[0m\u001b[36m,\u001b[0m\u001b[36m GB\u001b[0m\u001b[36m\"}\u001b[0m\u001b[36m<|python_tag|>{\"location\": \"London, England, GB\"}\u001b[0m\u001b[97m\u001b[0m\n",
      "\u001b[30m\u001b[0m"
     ]
    },
    {
     "data": {
      "text/html": [
       "<pre style=\"white-space:pre;overflow-x:auto;line-height:normal;font-family:Menlo,'DejaVu Sans Mono',consolas,'Courier New',monospace\">User&gt; Are there any weather-related risks in my area?\n",
       "</pre>\n"
      ],
      "text/plain": [
       "User> Are there any weather-related risks in my area?\n"
      ]
     },
     "metadata": {},
     "output_type": "display_data"
    },
    {
     "name": "stdout",
     "output_type": "stream",
     "text": [
      "\u001b[33minference> \u001b[0m\u001b[36m\u001b[0m\u001b[36m[\u001b[0m\u001b[36mget\u001b[0m\u001b[36m_location\u001b[0m\u001b[36m(query\u001b[0m\u001b[36m=\"\u001b[0m\u001b[36mweather\u001b[0m\u001b[36m risks\u001b[0m\u001b[36m near\u001b[0m\u001b[36m me\u001b[0m\u001b[36m\")]\u001b[0m\u001b[97m\u001b[0m\n",
      "\u001b[30m\u001b[0m\u001b[32mtool_execution> Tool:get_location Args:{'query': 'weather risks near me'}\u001b[0m\n",
      "\u001b[32mtool_execution> Tool:get_location Response:\"Your current location is: London, England, GB\"\u001b[0m\n",
      "\u001b[33minference> \u001b[0m\u001b[33m\"There\u001b[0m\u001b[33m are\u001b[0m\u001b[33m no\u001b[0m\u001b[33m severe\u001b[0m\u001b[33m weather\u001b[0m\u001b[33m warnings\u001b[0m\u001b[33m for\u001b[0m\u001b[33m your\u001b[0m\u001b[33m location\u001b[0m\u001b[33m at\u001b[0m\u001b[33m this\u001b[0m\u001b[33m time\u001b[0m\u001b[33m.\u001b[0m\u001b[33m However\u001b[0m\u001b[33m,\u001b[0m\u001b[33m it\u001b[0m\u001b[33m's\u001b[0m\u001b[33m always\u001b[0m\u001b[33m a\u001b[0m\u001b[33m good\u001b[0m\u001b[33m idea\u001b[0m\u001b[33m to\u001b[0m\u001b[33m check\u001b[0m\u001b[33m the\u001b[0m\u001b[33m forecast\u001b[0m\u001b[33m regularly\u001b[0m\u001b[33m for\u001b[0m\u001b[33m any\u001b[0m\u001b[33m updates\u001b[0m\u001b[33m.\"\u001b[0m\u001b[97m\u001b[0m\n",
      "\u001b[30m\u001b[0m"
     ]
    }
   ],
   "source": [
    "agent = Agent(\n",
    "    client,\n",
    "    model=\"meta-llama/Llama-3.2-3B-Instruct\",\n",
    "    instructions=\"\"\"You are a helpful assistant. \n",
    "    When a user asks about their location, use the get_location tool. \n",
    "    When searching for nearby places, use the websearch tool.\n",
    "    \"\"\",\n",
    "    tools=[get_location, \"builtin::websearch\"],\n",
    ")\n",
    "user_prompts = [\n",
    "    \"Where am I?\",\n",
    "    \"Are there any weather-related risks in my area?\",\n",
    "]\n",
    "session_id = agent.create_session(f\"prompt-chaining-session-{uuid.uuid4()}\")\n",
    "for prompt in user_prompts:\n",
    "    rich.print(f\"User> {prompt}\")\n",
    "    response = agent.create_turn(\n",
    "        messages=[{\"role\": \"user\", \"content\": prompt}],\n",
    "        session_id=session_id,\n",
    "    )\n",
    "    for log in EventLogger().log(response):\n",
    "        log.print()"
   ]
  },
  {
   "cell_type": "markdown",
   "metadata": {},
   "source": [
    "### ReAct Agent \n",
    "\n",
    "This section demonstrates the ReAct (Reasoning and Acting) framework in action.\n",
    "\n",
    "For example, when asked \"Are there any weather-related risks in my area that could disrupt network connectivity or system availability?\", the agent:\n",
    "1. **Reasons** it needs location information first\n",
    "2. **Acts** by calling the `get_location` client tool\n",
    "3. **Observes** the location result\n",
    "4. **Reasons** about the next step\n",
    "5. **Acts** by calling the `websearch` tool with observed location\n",
    "6. **Observes** and processes the search results\n",
    "\n",
    "Unlike prompt chaining which follows fixed steps, ReAct dynamically breaks down tasks and adapts its approach based on the results of each step. This makes it more flexible and capable of handling complex, real-world queries effectively."
   ]
  },
  {
   "cell_type": "code",
   "execution_count": null,
   "metadata": {},
   "outputs": [
    {
     "data": {
      "text/html": [
       "<pre style=\"white-space:pre;overflow-x:auto;line-height:normal;font-family:Menlo,'DejaVu Sans Mono',consolas,'Courier New',monospace\">User&gt; Are there any weather-related risks in my area?\n",
       "</pre>\n"
      ],
      "text/plain": [
       "User> Are there any weather-related risks in my area?\n"
      ]
     },
     "metadata": {},
     "output_type": "display_data"
    },
    {
     "name": "stdout",
     "output_type": "stream",
     "text": [
      "\u001b[33minference> \u001b[0m"
     ]
    },
    {
     "name": "stdout",
     "output_type": "stream",
     "text": [
      "\u001b[33m{\"\u001b[0m\u001b[33mthought\u001b[0m\u001b[33m\":\u001b[0m\u001b[33m \"\u001b[0m\u001b[33mAre\u001b[0m\u001b[33m there\u001b[0m\u001b[33m any\u001b[0m\u001b[33m weather\u001b[0m\u001b[33m-related\u001b[0m\u001b[33m risks\u001b[0m\u001b[33m in\u001b[0m\u001b[33m my\u001b[0m\u001b[33m area\u001b[0m\u001b[33m?\",\u001b[0m\u001b[33m \"\u001b[0m\u001b[33maction\u001b[0m\u001b[33m\":\u001b[0m\u001b[33m null\u001b[0m\u001b[33m,\u001b[0m\u001b[33m \"\u001b[0m\u001b[33manswer\u001b[0m\u001b[33m\":\u001b[0m\u001b[33m \"\u001b[0m\u001b[33mNo\u001b[0m\u001b[33m specific\u001b[0m\u001b[33m information\u001b[0m\u001b[33m available\u001b[0m\u001b[33m.\"\u001b[0m\u001b[33m}\u001b[0m\u001b[97m\u001b[0m\n",
      "\u001b[30m\u001b[0m"
     ]
    }
   ],
   "source": [
    "agent = ReActAgent(\n",
    "    client=client,\n",
    "    model=\"meta-llama/Llama-3.2-3B-Instruct\",\n",
    "    instructions=\"You are a helpful assistant. Use the tools at your disposal to answer any questions.\",\n",
    "    tools=[get_location, \"builtin::websearch\"],\n",
    "    response_format={\n",
    "        \"type\": \"json_schema\",\n",
    "        \"json_schema\": ReActOutput.model_json_schema(),\n",
    "    },\n",
    ")\n",
    "user_prompts = [\n",
    "    \"Are there any weather-related risks in my area?\",\n",
    "]\n",
    "session_id = agent.create_session(f\"web-session-{uuid.uuid4()}\")\n",
    "for prompt in user_prompts:\n",
    "    rich.print(f\"User> {prompt}\")\n",
    "    response = agent.create_turn(\n",
    "        messages=[{\"role\": \"user\", \"content\": prompt}],\n",
    "        session_id=session_id,\n",
    "    )\n",
    "    for log in EventLogger().log(response):\n",
    "        log.print()"
   ]
  },
  {
   "cell_type": "code",
   "execution_count": null,
   "metadata": {},
   "outputs": [],
   "source": []
  }
 ],
 "metadata": {
  "kernelspec": {
   "display_name": ".venv",
   "language": "python",
   "name": "python3"
  },
  "language_info": {
   "codemirror_mode": {
    "name": "ipython",
    "version": 3
   },
   "file_extension": ".py",
   "mimetype": "text/x-python",
   "name": "python",
   "nbconvert_exporter": "python",
   "pygments_lexer": "ipython3",
   "version": "3.12.7"
  }
 },
 "nbformat": 4,
 "nbformat_minor": 4
}
