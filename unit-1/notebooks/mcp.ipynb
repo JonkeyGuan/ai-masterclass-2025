{
 "cells": [
  {
   "cell_type": "markdown",
   "metadata": {},
   "source": [
    "# MCP Agent"
   ]
  },
  {
   "cell_type": "markdown",
   "metadata": {},
   "source": [
    "- Requires distributions/masterclass-agents/run.yaml"
   ]
  },
  {
   "cell_type": "code",
   "execution_count": 13,
   "metadata": {},
   "outputs": [],
   "source": [
    "from llama_stack_client import LlamaStackClient, Agent, AgentEventLogger\n"
   ]
  },
  {
   "cell_type": "code",
   "execution_count": 14,
   "metadata": {},
   "outputs": [],
   "source": [
    "client = LlamaStackClient(\n",
    "    base_url=\"http://localhost:8321\",\n",
    ")"
   ]
  },
  {
   "cell_type": "code",
   "execution_count": 15,
   "metadata": {},
   "outputs": [
    {
     "data": {
      "text/plain": [
       "[Model(identifier='all-MiniLM-L6-v2', metadata={'embedding_dimension': 384.0}, api_model_type='embedding', provider_id='ollama', provider_resource_id='all-minilm:latest', type='model', model_type='embedding'),\n",
       " Model(identifier='meta-llama/Llama-3.2-3B-Instruct', metadata={}, api_model_type='llm', provider_id='ollama', provider_resource_id='llama3.2:3b-instruct-fp16', type='model', model_type='llm')]"
      ]
     },
     "execution_count": 15,
     "metadata": {},
     "output_type": "execute_result"
    }
   ],
   "source": [
    "client.models.list()"
   ]
  },
  {
   "cell_type": "code",
   "execution_count": 16,
   "metadata": {},
   "outputs": [
    {
     "data": {
      "text/plain": [
       "[Tool(description='Insert documents into memory', identifier='insert_into_memory', parameters=[], provider_id='rag-runtime', provider_resource_id='insert_into_memory', tool_host='distribution', toolgroup_id='builtin::rag', type='tool', metadata=None),\n",
       " Tool(description='Search for information in a database.', identifier='knowledge_search', parameters=[Parameter(description='The query to search for. Can be a natural language sentence or keywords.', name='query', parameter_type='string', required=True, default=None)], provider_id='rag-runtime', provider_resource_id='knowledge_search', tool_host='distribution', toolgroup_id='builtin::rag', type='tool', metadata=None),\n",
       " Tool(description='Search the web for information', identifier='web_search', parameters=[Parameter(description='The query to search for', name='query', parameter_type='string', required=True, default=None)], provider_id='tavily-search', provider_resource_id='web_search', tool_host='distribution', toolgroup_id='builtin::websearch', type='tool', metadata=None)]"
      ]
     },
     "execution_count": 16,
     "metadata": {},
     "output_type": "execute_result"
    }
   ],
   "source": [
    "client.tools.list()"
   ]
  },
  {
   "cell_type": "code",
   "execution_count": 17,
   "metadata": {},
   "outputs": [
    {
     "data": {
      "text/plain": [
       "[ToolGroup(identifier='builtin::rag', provider_id='rag-runtime', provider_resource_id='builtin::rag', type='tool_group', args=None, mcp_endpoint=None),\n",
       " ToolGroup(identifier='builtin::websearch', provider_id='tavily-search', provider_resource_id='builtin::websearch', type='tool_group', args=None, mcp_endpoint=None)]"
      ]
     },
     "execution_count": 17,
     "metadata": {},
     "output_type": "execute_result"
    }
   ],
   "source": [
    "client.toolgroups.list()"
   ]
  },
  {
   "cell_type": "code",
   "execution_count": 18,
   "metadata": {},
   "outputs": [],
   "source": [
    "# alternatively can have this in the run.yaml file\n",
    "client.toolgroups.register(\n",
    "    toolgroup_id=\"mcp::filesystem\",\n",
    "    provider_id=\"model-context-protocol\",\n",
    "    mcp_endpoint={\"uri\": \"http://localhost:8000/sse\"},\n",
    ")"
   ]
  },
  {
   "cell_type": "code",
   "execution_count": 19,
   "metadata": {},
   "outputs": [
    {
     "data": {
      "text/plain": [
       "[ToolGroup(identifier='builtin::rag', provider_id='rag-runtime', provider_resource_id='builtin::rag', type='tool_group', args=None, mcp_endpoint=None),\n",
       " ToolGroup(identifier='builtin::websearch', provider_id='tavily-search', provider_resource_id='builtin::websearch', type='tool_group', args=None, mcp_endpoint=None),\n",
       " ToolGroup(identifier='mcp::filesystem', provider_id='model-context-protocol', provider_resource_id='mcp::filesystem', type='tool_group', args=None, mcp_endpoint=McpEndpoint(uri='http://localhost:8000/sse'))]"
      ]
     },
     "execution_count": 19,
     "metadata": {},
     "output_type": "execute_result"
    }
   ],
   "source": [
    "client.toolgroups.list()"
   ]
  },
  {
   "cell_type": "code",
   "execution_count": 20,
   "metadata": {},
   "outputs": [],
   "source": [
    "from llama_stack_client.types.shared_params.agent_config import ToolConfig\n",
    "\n",
    "agent = Agent(\n",
    "    client,\n",
    "    model=\"meta-llama/Llama-3.2-3B-Instruct\",\n",
    "    instructions=\"You are a helpful assistant.\",\n",
    "    tools=[\"mcp::filesystem\"],\n",
    ")"
   ]
  },
  {
   "cell_type": "code",
   "execution_count": 22,
   "metadata": {},
   "outputs": [
    {
     "name": "stdout",
     "output_type": "stream",
     "text": [
      "User> Hello\n",
      "\u001b[33minference> \u001b[0m"
     ]
    },
    {
     "name": "stdout",
     "output_type": "stream",
     "text": [
      "\u001b[33mHello\u001b[0m\u001b[33m!\u001b[0m\u001b[33m How\u001b[0m\u001b[33m can\u001b[0m\u001b[33m I\u001b[0m\u001b[33m assist\u001b[0m\u001b[33m you\u001b[0m\u001b[33m today\u001b[0m\u001b[33m?\u001b[0m\u001b[97m\u001b[0m\n",
      "\u001b[30m\u001b[0mUser> do you have access to any tools?\n",
      "\u001b[33minference> \u001b[0m\u001b[33mI\u001b[0m\u001b[33m do\u001b[0m\u001b[33m have\u001b[0m\u001b[33m access\u001b[0m\u001b[33m to\u001b[0m\u001b[33m a\u001b[0m\u001b[33m set\u001b[0m\u001b[33m of\u001b[0m\u001b[33m tools\u001b[0m\u001b[33m that\u001b[0m\u001b[33m can\u001b[0m\u001b[33m be\u001b[0m\u001b[33m invoked\u001b[0m\u001b[33m to\u001b[0m\u001b[33m perform\u001b[0m\u001b[33m various\u001b[0m\u001b[33m tasks\u001b[0m\u001b[33m related\u001b[0m\u001b[33m to\u001b[0m\u001b[33m file\u001b[0m\u001b[33m system\u001b[0m\u001b[33m operations\u001b[0m\u001b[33m,\u001b[0m\u001b[33m such\u001b[0m\u001b[33m as\u001b[0m\u001b[33m reading\u001b[0m\u001b[33m and\u001b[0m\u001b[33m writing\u001b[0m\u001b[33m files\u001b[0m\u001b[33m,\u001b[0m\u001b[33m creating\u001b[0m\u001b[33m directories\u001b[0m\u001b[33m,\u001b[0m\u001b[33m listing\u001b[0m\u001b[33m directory\u001b[0m\u001b[33m contents\u001b[0m\u001b[33m,\u001b[0m\u001b[33m and\u001b[0m\u001b[33m more\u001b[0m\u001b[33m.\u001b[0m\u001b[33m The\u001b[0m\u001b[33m list\u001b[0m\u001b[33m of\u001b[0m\u001b[33m available\u001b[0m\u001b[33m tools\u001b[0m\u001b[33m is\u001b[0m\u001b[33m provided\u001b[0m\u001b[33m in\u001b[0m\u001b[33m the\u001b[0m\u001b[33m format\u001b[0m\u001b[33m below\u001b[0m\u001b[33m:\u001b[0m\u001b[97m\u001b[0m\n",
      "\u001b[30m\u001b[0mUser> list the directories that you have access to\n",
      "\u001b[33minference> \u001b[0m\u001b[33m[list\u001b[0m\u001b[33m_allowed\u001b[0m\u001b[33m_direct\u001b[0m\u001b[33mories\u001b[0m\u001b[33m()]\u001b[0m\u001b[97m\u001b[0m\n",
      "\u001b[32mtool_execution> Tool:list_allowed_directories Args:{}\u001b[0m\n",
      "\u001b[32mtool_execution> Tool:list_allowed_directories Response:{\"type\":\"text\",\"text\":\"Allowed directories:\\n/Users/diego/src/ai-masterclass-2025/my-local-files\",\"annotations\":null}\u001b[0m\n",
      "\u001b[33minference> \u001b[0m\u001b[33mThe\u001b[0m\u001b[33m tool\u001b[0m\u001b[33m `\u001b[0m\u001b[33mlist\u001b[0m\u001b[33m_allowed\u001b[0m\u001b[33m_direct\u001b[0m\u001b[33mories\u001b[0m\u001b[33m()`\u001b[0m\u001b[33m was\u001b[0m\u001b[33m invoked\u001b[0m\u001b[33m successfully\u001b[0m\u001b[33m.\u001b[0m\u001b[33m The\u001b[0m\u001b[33m output\u001b[0m\u001b[33m indicates\u001b[0m\u001b[33m that\u001b[0m\u001b[33m the\u001b[0m\u001b[33m user\u001b[0m\u001b[33m has\u001b[0m\u001b[33m access\u001b[0m\u001b[33m to\u001b[0m\u001b[33m a\u001b[0m\u001b[33m directory\u001b[0m\u001b[33m named\u001b[0m\u001b[33m \"\u001b[0m\u001b[33mmy\u001b[0m\u001b[33m-local\u001b[0m\u001b[33m-files\u001b[0m\u001b[33m\"\u001b[0m\u001b[33m located\u001b[0m\u001b[33m at\u001b[0m\u001b[33m \"/\u001b[0m\u001b[33mUsers\u001b[0m\u001b[33m/d\u001b[0m\u001b[33miego\u001b[0m\u001b[33m/src\u001b[0m\u001b[33m/\u001b[0m\u001b[33mai\u001b[0m\u001b[33m-master\u001b[0m\u001b[33mclass\u001b[0m\u001b[33m-\u001b[0m\u001b[33m202\u001b[0m\u001b[33m5\u001b[0m\u001b[33m\".\u001b[0m\u001b[97m\u001b[0m\n",
      "\u001b[30m\u001b[0m"
     ]
    }
   ],
   "source": [
    "user_prompts = [\n",
    "    \"Hello\",\n",
    "    \"do you have access to any tools?\",\n",
    "    \"list the directories that you have access to\",\n",
    "]\n",
    "\n",
    "session_id = agent.create_session(\"test-session\")\n",
    "for prompt in user_prompts:\n",
    "    print(f\"User> {prompt}\")\n",
    "    response = agent.create_turn(\n",
    "        messages=[{\"role\": \"user\", \"content\": prompt}],\n",
    "        session_id=session_id,\n",
    "    )\n",
    "\n",
    "    for log in AgentEventLogger().log(response):\n",
    "        log.print()"
   ]
  }
 ],
 "metadata": {
  "kernelspec": {
   "display_name": ".venv",
   "language": "python",
   "name": "python3"
  },
  "language_info": {
   "codemirror_mode": {
    "name": "ipython",
    "version": 3
   },
   "file_extension": ".py",
   "mimetype": "text/x-python",
   "name": "python",
   "nbconvert_exporter": "python",
   "pygments_lexer": "ipython3",
   "version": "3.12.7"
  }
 },
 "nbformat": 4,
 "nbformat_minor": 2
}
